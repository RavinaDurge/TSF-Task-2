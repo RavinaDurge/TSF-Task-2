{
 "cells": [
  {
   "cell_type": "markdown",
   "id": "89c6d6dd",
   "metadata": {},
   "source": [
    "# GRIP : The Sparks Foundation \n",
    "## Data Science & Business Analytics Internship"
   ]
  },
  {
   "cell_type": "markdown",
   "id": "7555cabe",
   "metadata": {},
   "source": [
    "### Task - 2 Prediction using unsupervised ML \n",
    "#### Problem statement : From the given \"Iris\" dataset,predict the optimum number of clusters and rerpresent it visually."
   ]
  },
  {
   "cell_type": "markdown",
   "id": "1cec165f",
   "metadata": {},
   "source": [
    "## Author : Ravina Ramesh Durge"
   ]
  },
  {
   "cell_type": "markdown",
   "id": "183469ca",
   "metadata": {},
   "source": [
    "### Batch - January 2022"
   ]
  },
  {
   "cell_type": "code",
   "execution_count": 14,
   "id": "f69e6bf8",
   "metadata": {},
   "outputs": [],
   "source": [
    "# First we will Import all Libraries required in this notebook\n",
    "\n",
    "import numpy as np\n",
    "import pandas as pd\n",
    "from sklearn import datasets\n",
    "import matplotlib.pyplot as plt  \n",
    "%matplotlib inline"
   ]
  },
  {
   "cell_type": "code",
   "execution_count": 15,
   "id": "662dd5e4",
   "metadata": {},
   "outputs": [
    {
     "data": {
      "text/html": [
       "<div>\n",
       "<style scoped>\n",
       "    .dataframe tbody tr th:only-of-type {\n",
       "        vertical-align: middle;\n",
       "    }\n",
       "\n",
       "    .dataframe tbody tr th {\n",
       "        vertical-align: top;\n",
       "    }\n",
       "\n",
       "    .dataframe thead th {\n",
       "        text-align: right;\n",
       "    }\n",
       "</style>\n",
       "<table border=\"1\" class=\"dataframe\">\n",
       "  <thead>\n",
       "    <tr style=\"text-align: right;\">\n",
       "      <th></th>\n",
       "      <th>sepal length (cm)</th>\n",
       "      <th>sepal width (cm)</th>\n",
       "      <th>petal length (cm)</th>\n",
       "      <th>petal width (cm)</th>\n",
       "    </tr>\n",
       "  </thead>\n",
       "  <tbody>\n",
       "    <tr>\n",
       "      <th>0</th>\n",
       "      <td>5.1</td>\n",
       "      <td>3.5</td>\n",
       "      <td>1.4</td>\n",
       "      <td>0.2</td>\n",
       "    </tr>\n",
       "    <tr>\n",
       "      <th>1</th>\n",
       "      <td>4.9</td>\n",
       "      <td>3.0</td>\n",
       "      <td>1.4</td>\n",
       "      <td>0.2</td>\n",
       "    </tr>\n",
       "    <tr>\n",
       "      <th>2</th>\n",
       "      <td>4.7</td>\n",
       "      <td>3.2</td>\n",
       "      <td>1.3</td>\n",
       "      <td>0.2</td>\n",
       "    </tr>\n",
       "    <tr>\n",
       "      <th>3</th>\n",
       "      <td>4.6</td>\n",
       "      <td>3.1</td>\n",
       "      <td>1.5</td>\n",
       "      <td>0.2</td>\n",
       "    </tr>\n",
       "    <tr>\n",
       "      <th>4</th>\n",
       "      <td>5.0</td>\n",
       "      <td>3.6</td>\n",
       "      <td>1.4</td>\n",
       "      <td>0.2</td>\n",
       "    </tr>\n",
       "    <tr>\n",
       "      <th>5</th>\n",
       "      <td>5.4</td>\n",
       "      <td>3.9</td>\n",
       "      <td>1.7</td>\n",
       "      <td>0.4</td>\n",
       "    </tr>\n",
       "    <tr>\n",
       "      <th>6</th>\n",
       "      <td>4.6</td>\n",
       "      <td>3.4</td>\n",
       "      <td>1.4</td>\n",
       "      <td>0.3</td>\n",
       "    </tr>\n",
       "    <tr>\n",
       "      <th>7</th>\n",
       "      <td>5.0</td>\n",
       "      <td>3.4</td>\n",
       "      <td>1.5</td>\n",
       "      <td>0.2</td>\n",
       "    </tr>\n",
       "    <tr>\n",
       "      <th>8</th>\n",
       "      <td>4.4</td>\n",
       "      <td>2.9</td>\n",
       "      <td>1.4</td>\n",
       "      <td>0.2</td>\n",
       "    </tr>\n",
       "    <tr>\n",
       "      <th>9</th>\n",
       "      <td>4.9</td>\n",
       "      <td>3.1</td>\n",
       "      <td>1.5</td>\n",
       "      <td>0.1</td>\n",
       "    </tr>\n",
       "  </tbody>\n",
       "</table>\n",
       "</div>"
      ],
      "text/plain": [
       "   sepal length (cm)  sepal width (cm)  petal length (cm)  petal width (cm)\n",
       "0                5.1               3.5                1.4               0.2\n",
       "1                4.9               3.0                1.4               0.2\n",
       "2                4.7               3.2                1.3               0.2\n",
       "3                4.6               3.1                1.5               0.2\n",
       "4                5.0               3.6                1.4               0.2\n",
       "5                5.4               3.9                1.7               0.4\n",
       "6                4.6               3.4                1.4               0.3\n",
       "7                5.0               3.4                1.5               0.2\n",
       "8                4.4               2.9                1.4               0.2\n",
       "9                4.9               3.1                1.5               0.1"
      ]
     },
     "execution_count": 15,
     "metadata": {},
     "output_type": "execute_result"
    }
   ],
   "source": [
    "# Reading data from remote link\n",
    "iris = datasets.load_iris()\n",
    "iris_df = pd.DataFrame(iris.data, columns = iris.feature_names)\n",
    "iris_df.head(10)"
   ]
  },
  {
   "cell_type": "markdown",
   "id": "6b78ccd5",
   "metadata": {},
   "source": [
    "### K-Means clustering "
   ]
  },
  {
   "cell_type": "markdown",
   "id": "a102d2d4",
   "metadata": {},
   "source": [
    "#### Let us perform the centroid-based clustering algorithm calles K-Means clustering. Such algorithms are efficient but sensitive to initial conditions and outliers.\n",
    "\n",
    "#### Here we consider two techniques- the Elbow method and the silhouette score method to decide on the optimum number of clusters(k) to perform the K-Means clustering.\n"
   ]
  },
  {
   "cell_type": "markdown",
   "id": "cf2654b3",
   "metadata": {},
   "source": [
    "### Optimal value of k using Elbow plot"
   ]
  },
  {
   "cell_type": "code",
   "execution_count": 16,
   "id": "734ea398",
   "metadata": {},
   "outputs": [
    {
     "data": {
      "text/plain": [
       "[681.3705999999996,\n",
       " 152.34795176035797,\n",
       " 78.851441426146,\n",
       " 57.25600931571815,\n",
       " 46.44618205128204,\n",
       " 39.03998724608725,\n",
       " 34.299712121212146,\n",
       " 30.014398496240617,\n",
       " 28.03690635345049,\n",
       " 26.534529220779234]"
      ]
     },
     "execution_count": 16,
     "metadata": {},
     "output_type": "execute_result"
    }
   ],
   "source": [
    "# Finding the optimum number of clusters for k-means classification\n",
    "\n",
    "x = iris_df.iloc[:, [0, 1, 2, 3]].values #data arrangement\n",
    "\n",
    "from sklearn.cluster import KMeans\n",
    "\n",
    "#create several cluster combinations and observe the wcss(Within Cluster Sum of Squares)\n",
    "wcss = [] #empty list to store the wcss\n",
    "K = range(1,11)\n",
    "for i in K:\n",
    "    kmeans = KMeans(n_clusters = i,init = 'k-means++',\n",
    "                  max_iter = 300,n_init = 10,random_state=0)\n",
    "    kmeans = kmeans.fit(x)  #fit the model on prepared data\n",
    "    wcss.append(kmeans.inertia_) #returns wcss for specific value of k\n",
    "wcss    "
   ]
  },
  {
   "cell_type": "code",
   "execution_count": 19,
   "id": "8dc76bc6",
   "metadata": {},
   "outputs": [
    {
     "data": {
      "image/png": "[encoded data removed]",
      "text/plain": [
       "<Figure size 432x288 with 1 Axes>"
      ]
     },
     "metadata": {
      "needs_background": "light"
     },
     "output_type": "display_data"
    }
   ],
   "source": [
    "#visualize the elbow plot to find the optimal value of k\n",
    "plt.plot(K,wcss,\"go--\")\n",
    "\n",
    "#setting the plot title and axis labels\n",
    "plt.title(\"The Elbow Method for optimal K\",size=20,color='navy')\n",
    "plt.xlabel(\"Number of clusters\",size=14,color='royalblue')\n",
    "plt.ylabel(\"Within Clusters Sum of Squares(WCSS)\",size=14,color='crimson')\n",
    "plt.annotate(\"Elbow\",xytext=(4,200),xy=(2.4,120),arrowprops={\"facecolor\":\"purple\"})\n",
    "plt.grid()\n",
    "plt.show()#display the plot"
   ]
  },
  {
   "cell_type": "markdown",
   "id": "285d78fd",
   "metadata": {},
   "source": [
    "#### Elbow plot is plotted with the value of k on the x-axis and the WCSS(Within Clusters Sum of Squares) on the y-axis. The value of k corresponding to the Elbow point represents the optimal value for k."
   ]
  },
  {
   "cell_type": "markdown",
   "id": "950fc132",
   "metadata": {},
   "source": [
    "#### In the above plot, the Elbow point is representated by the arrow and the elbow occurs by 3 points.\n",
    "\n",
    "#### Hence, the Elbow method shows that optimum value for k is 3. "
   ]
  },
  {
   "cell_type": "markdown",
   "id": "0c844fb8",
   "metadata": {},
   "source": [
    "### Visualising the Clusters with centroids "
   ]
  },
  {
   "cell_type": "code",
   "execution_count": 6,
   "id": "df09a9a8",
   "metadata": {},
   "outputs": [],
   "source": [
    "# Creating the kmeans classifier\n",
    "kmeans = KMeans(n_clusters = 3, init = 'k-means++', max_iter = 300, n_init = 10, random_state = 0)\n",
    "y_kmeans = kmeans.fit_predict(x)"
   ]
  },
  {
   "cell_type": "code",
   "execution_count": 40,
   "id": "03d432be",
   "metadata": {},
   "outputs": [
    {
     "data": {
      "image/png": "[encoded data removed]",
      "text/plain": [
       "<Figure size 504x504 with 1 Axes>"
      ]
     },
     "metadata": {
      "needs_background": "light"
     },
     "output_type": "display_data"
    }
   ],
   "source": [
    "#Visualising the clusters\n",
    "fig = plt.figure(figsize= (7, 7))\n",
    "plt.scatter(x[y_kmeans == 0, 2], x[y_kmeans == 0, 3], s = 100, c = 'deeppink', label = 'Iris-virginica')\n",
    "plt.scatter(x[y_kmeans == 1, 2], x[y_kmeans == 1, 3], s = 100, c = 'maroon', label = 'Iris-setosa')\n",
    "plt.scatter(x[y_kmeans == 2, 2], x[y_kmeans == 2, 3], s = 100, c = 'indigo', label = 'Iris-versicolor')\n",
    "\n",
    "#Plotting the centroids of the clusters\n",
    "plt.scatter(kmeans.cluster_centers_[:, 2], kmeans.cluster_centers_[:,3], s = 100, c = 'goldenrod', label = 'Centroids')\n",
    "plt.xlabel('Petal Length',size=18)\n",
    "plt.ylabel('Petal Width',size=18)\n",
    "plt.grid();\n",
    "plt.legend();"
   ]
  },
  {
   "cell_type": "markdown",
   "id": "827c5476",
   "metadata": {},
   "source": [
    "Thus, we have predicted the optimum number of clusters and represented it visually. "
   ]
  },
  {
   "cell_type": "markdown",
   "id": "4b0d6dab",
   "metadata": {},
   "source": [
    "                                         Thank You!"
   ]
  }
 ],
 "metadata": {
  "kernelspec": {
   "display_name": "Python 3",
   "language": "python",
   "name": "python3"
  },
  "language_info": {
   "codemirror_mode": {
    "name": "ipython",
    "version": 3
   },
   "file_extension": ".py",
   "mimetype": "text/x-python",
   "name": "python",
   "nbconvert_exporter": "python",
   "pygments_lexer": "ipython3",
   "version": "3.8.8"
  }
 },
 "nbformat": 4,
 "nbformat_minor": 5
}
